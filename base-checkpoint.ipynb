{
 "cells": [
  {
   "cell_type": "code",
   "execution_count": 10,
   "id": "a352344e",
   "metadata": {},
   "outputs": [],
   "source": [
    "# Importando las bibliotecas necesarias\n",
    "\n",
    "import pandas as pd\n",
    "import mysql.connector as connection\n",
    "from google.cloud import bigquery\n",
    "import os\n",
    "\n",
    "# Función de conexión a la base de datos SQL\n",
    "def connect_to_sql(dbname, host, user, password):\n",
    "    try:\n",
    "        conn = connection.connect(\n",
    "            host=host,\n",
    "            user=user,\n",
    "            password=password,\n",
    "            database=dbname,\n",
    "        )\n",
    "        print(\"Conexión exitosa a la base de datos\")\n",
    "        return conn\n",
    "    except Exception as e:\n",
    "        print(f\"Ocurrió un error al conectarse a la base de datos: {e}\")\n",
    "\n",
    "# Función para enumerar todas las tablas en la base de datos SQL\n",
    "def list_all_tables(conn):\n",
    "    try:\n",
    "        cursor = conn.cursor()\n",
    "        cursor.execute(\"SHOW TABLES\")\n",
    "        tables = cursor.fetchall()\n",
    "        print(\"Tablas en la base de datos:\")\n",
    "        for table in tables:\n",
    "            print(table[0])\n",
    "        return tables\n",
    "    except Exception as e:\n",
    "        print(f\"Ocurrió un error al recuperar las tablas: {e}\")\n",
    "\n",
    "# Función para copiar tablas desde SQL a BigQuery\n",
    "def copy_tables_to_bigquery(tables, conn, dataset_id, bigquery_credentials_path):\n",
    "    os.environ[\"GOOGLE_APPLICATION_CREDENTIALS\"] = bigquery_credentials_path\n",
    "    client = bigquery.Client()\n",
    "\n",
    "    for table in tables:\n",
    "        df = pd.read_sql(f\"SELECT * FROM {table[0]}\", conn)\n",
    "        destination_table = f\"{dataset_id}.{table[0]}\"\n",
    "        job = client.load_table_from_dataframe(df, destination_table)\n",
    "        job.result()  # Espera a que la carga de datos termine\n",
    "        print(f\"Tabla {table[0]} copiada a BigQuery con éxito\")\n"
   ]
  },
  {
   "cell_type": "code",
   "execution_count": 11,
   "id": "efbe0c61",
   "metadata": {},
   "outputs": [
    {
     "name": "stdout",
     "output_type": "stream",
     "text": [
      "Conexión exitosa a la base de datos\n"
     ]
    }
   ],
   "source": [
    "x = connect_to_sql(\"retail_db\",\"34.16.158.146\",\"root\",\"root\")"
   ]
  },
  {
   "cell_type": "code",
   "execution_count": 12,
   "id": "d327e4b1",
   "metadata": {},
   "outputs": [
    {
     "name": "stdout",
     "output_type": "stream",
     "text": [
      "Tablas en la base de datos:\n",
      "categories\n",
      "customers\n",
      "departments\n",
      "order_items\n",
      "orders\n",
      "products\n"
     ]
    }
   ],
   "source": [
    "y = list_all_tables(x)"
   ]
  },
  {
   "cell_type": "code",
   "execution_count": null,
   "id": "2483af55",
   "metadata": {},
   "outputs": [],
   "source": []
  }
 ],
 "metadata": {
  "kernelspec": {
   "display_name": "Python 3 (ipykernel)",
   "language": "python",
   "name": "python3"
  },
  "language_info": {
   "codemirror_mode": {
    "name": "ipython",
    "version": 3
   },
   "file_extension": ".py",
   "mimetype": "text/x-python",
   "name": "python",
   "nbconvert_exporter": "python",
   "pygments_lexer": "ipython3",
   "version": "3.11.4"
  }
 },
 "nbformat": 4,
 "nbformat_minor": 5
}
