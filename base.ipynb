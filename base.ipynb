{
 "cells": [
  {
   "cell_type": "code",
   "execution_count": 22,
   "id": "a352344e",
   "metadata": {},
   "outputs": [
    {
     "name": "stdout",
     "output_type": "stream",
     "text": [
      "\n",
      "---------------  PASO #1  ---------------\n",
      "\n",
      "Conexión exitosa a la base de datos\n",
      "\n",
      " ---------------  PASO #2  ---------------\n",
      "\n",
      "\n",
      " A continuación todas las tablas \n",
      "\n",
      "categories\n",
      "customers\n",
      "departments\n",
      "order_items\n",
      "orders\n",
      "products\n",
      "\n",
      "---------------  PASO #3   ---------------\n",
      "\n"
     ]
    },
    {
     "name": "stderr",
     "output_type": "stream",
     "text": [
      "C:\\Users\\Innovation Computers\\AppData\\Local\\Temp\\ipykernel_57296\\1993273614.py:56: UserWarning: pandas only supports SQLAlchemy connectable (engine/connection) or database string URI or sqlite3 DBAPI2 connection. Other DBAPI2 objects are not tested. Please consider using SQLAlchemy.\n",
      "  df = pd.read_sql(f\"SELECT * FROM {table[0]}\", conn)\n"
     ]
    },
    {
     "name": "stdout",
     "output_type": "stream",
     "text": [
      "Tabla categories importada a BigQuery con éxito\n"
     ]
    },
    {
     "name": "stderr",
     "output_type": "stream",
     "text": [
      "C:\\Users\\Innovation Computers\\AppData\\Local\\Temp\\ipykernel_57296\\1993273614.py:56: UserWarning: pandas only supports SQLAlchemy connectable (engine/connection) or database string URI or sqlite3 DBAPI2 connection. Other DBAPI2 objects are not tested. Please consider using SQLAlchemy.\n",
      "  df = pd.read_sql(f\"SELECT * FROM {table[0]}\", conn)\n"
     ]
    },
    {
     "name": "stdout",
     "output_type": "stream",
     "text": [
      "Tabla customers importada a BigQuery con éxito\n"
     ]
    },
    {
     "name": "stderr",
     "output_type": "stream",
     "text": [
      "C:\\Users\\Innovation Computers\\AppData\\Local\\Temp\\ipykernel_57296\\1993273614.py:56: UserWarning: pandas only supports SQLAlchemy connectable (engine/connection) or database string URI or sqlite3 DBAPI2 connection. Other DBAPI2 objects are not tested. Please consider using SQLAlchemy.\n",
      "  df = pd.read_sql(f\"SELECT * FROM {table[0]}\", conn)\n"
     ]
    },
    {
     "name": "stdout",
     "output_type": "stream",
     "text": [
      "Tabla departments importada a BigQuery con éxito\n"
     ]
    },
    {
     "name": "stderr",
     "output_type": "stream",
     "text": [
      "C:\\Users\\Innovation Computers\\AppData\\Local\\Temp\\ipykernel_57296\\1993273614.py:56: UserWarning: pandas only supports SQLAlchemy connectable (engine/connection) or database string URI or sqlite3 DBAPI2 connection. Other DBAPI2 objects are not tested. Please consider using SQLAlchemy.\n",
      "  df = pd.read_sql(f\"SELECT * FROM {table[0]}\", conn)\n"
     ]
    },
    {
     "name": "stdout",
     "output_type": "stream",
     "text": [
      "Tabla order_items importada a BigQuery con éxito\n"
     ]
    },
    {
     "name": "stderr",
     "output_type": "stream",
     "text": [
      "C:\\Users\\Innovation Computers\\AppData\\Local\\Temp\\ipykernel_57296\\1993273614.py:56: UserWarning: pandas only supports SQLAlchemy connectable (engine/connection) or database string URI or sqlite3 DBAPI2 connection. Other DBAPI2 objects are not tested. Please consider using SQLAlchemy.\n",
      "  df = pd.read_sql(f\"SELECT * FROM {table[0]}\", conn)\n"
     ]
    },
    {
     "name": "stdout",
     "output_type": "stream",
     "text": [
      "Tabla orders importada a BigQuery con éxito\n"
     ]
    },
    {
     "name": "stderr",
     "output_type": "stream",
     "text": [
      "C:\\Users\\Innovation Computers\\AppData\\Local\\Temp\\ipykernel_57296\\1993273614.py:56: UserWarning: pandas only supports SQLAlchemy connectable (engine/connection) or database string URI or sqlite3 DBAPI2 connection. Other DBAPI2 objects are not tested. Please consider using SQLAlchemy.\n",
      "  df = pd.read_sql(f\"SELECT * FROM {table[0]}\", conn)\n"
     ]
    },
    {
     "name": "stdout",
     "output_type": "stream",
     "text": [
      "Tabla products importada a BigQuery con éxito\n"
     ]
    }
   ],
   "source": [
    "# Importando las bibliotecas necesarias\n",
    "\n",
    "import pandas as pd\n",
    "import mysql.connector as connection\n",
    "from google.cloud import bigquery\n",
    "import os\n",
    "\n",
    "\n",
    "# Defiinendo las Variables\n",
    "\n",
    "dbname = 'retail_db'\n",
    "host = '34.16.158.146'\n",
    "user = 'root'\n",
    "password = 'root'\n",
    "dataset= 'proyecto_raw'\n",
    "bigquery_credentials = 'service.json'\n",
    "\n",
    "\n",
    "# Función de conexión a SQL\n",
    "\n",
    "def connect_to_sql(dbname, host, user, password):\n",
    "    try:\n",
    "        conn = connection.connect(\n",
    "            host=host,\n",
    "            user=user,\n",
    "            password=password,\n",
    "            database=dbname,\n",
    "        )\n",
    "        print(\"Conexión exitosa a la base de datos\")\n",
    "        return conn\n",
    "    except Exception as e:\n",
    "        print(f\"Ocurrió un error al conectarse a la base de datos: {e}\")\n",
    "\n",
    "        \n",
    "# Función para Listar todas las tablas en la base de datos SQL\n",
    "\n",
    "def all_tables(conn):\n",
    "    try:\n",
    "        cursor = conn.cursor()\n",
    "        cursor.execute(\"SHOW TABLES\")\n",
    "        tables = cursor.fetchall()\n",
    "        for table in tables:\n",
    "            print(table[0])\n",
    "        return tables\n",
    "    except Exception as e:\n",
    "        print(f\"Ocurrió un error al recuperar las tablas: {e}\")\n",
    "        \n",
    "\n",
    "# Función para copiar tablas desde SQL a BigQuery\n",
    "\n",
    "def copy_tables_to_bigquery(tables, conn, dataset, bigquery_credentials):\n",
    "    os.environ[\"GOOGLE_APPLICATION_CREDENTIALS\"] = \"service.json\"\n",
    "    client = bigquery.Client()\n",
    "\n",
    "    for table in tables:\n",
    "        df = pd.read_sql(f\"SELECT * FROM {table[0]}\", conn)\n",
    "        destination_table = f\"{dataset}.{table[0]}\"\n",
    "        job = client.load_table_from_dataframe(df, destination_table)\n",
    "        job.result()  # Espera a que la carga de datos termine\n",
    "        print(f\"Tabla {table[0]} importada a BigQuery con éxito\")\n",
    "        \n",
    "\n",
    "        \n",
    "#Conetar a la Base de Datos Mysql\n",
    "print(\"\\n---------------  PASO #1  ---------------\\n\")\n",
    "conn = connect_to_sql(dbname, host, user, password)   \n",
    "\n",
    "#Listar todas las tablas\n",
    "print(\"\\n ---------------  PASO #2  ---------------\\n\")\n",
    "print(\"\\n A continuación todas las tablas \\n\")\n",
    "tables = all_tables(conn)\n",
    "\n",
    "#Importar SQL a BigQuery\n",
    "print(\"\\n---------------  PASO #3   ---------------\\n\")\n",
    "copy_tables_to_bigquery(tables, conn, dataset, bigquery_credentials_path)"
   ]
<<<<<<< HEAD
  }
 ],
 "metadata": {
  "kernelspec": {
   "display_name": "Python 3 (ipykernel)",
   "language": "python",
   "name": "python3"
  },
  "language_info": {
   "codemirror_mode": {
    "name": "ipython",
    "version": 3
   },
   "file_extension": ".py",
   "mimetype": "text/x-python",
   "name": "python",
   "nbconvert_exporter": "python",
   "pygments_lexer": "ipython3",
   "version": "3.11.4"
  }
 },
 "nbformat": 4,
 "nbformat_minor": 5
}
=======
  },
  {
   "cell_type": "code",
   "execution_count": 11,
   "id": "efbe0c61",
   "metadata": {},
   "outputs": [
    {
     "name": "stdout",
     "output_type": "stream",
     "text": [
      "Conexión exitosa a la base de datos\n"
     ]
    }
   ],
   "source": [
>>>>>>> 8ed080081ffda1a34a5dc3d7839fce7b97a6a9cb
