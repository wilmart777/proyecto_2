{
 "cells": [
  {
   "cell_type": "markdown",
   "id": "oZdfijZyFVnP",
   "metadata": {
    "id": "oZdfijZyFVnP"
   },
   "source": [
    "# Trabajando con Pandas, MySQL y Google BigQuery\n",
    "\n",
    "En este ejercicio, vamos a aprender cómo interactuar con una base de datos MySQL utilizando Pandas y luego cargar los datos en Google BigQuery. Siga las instrucciones a continuación para completar el ejercicio."
   ]
  },
  {
   "cell_type": "markdown",
   "id": "oswdyc6PFbVk",
   "metadata": {
    "id": "oswdyc6PFbVk"
   },
   "source": [
    "## Paso 1: Instalación de paquetes\n",
    "\n",
    "Instale los siguientes paquetes utilizando `pip`:\n",
    "\n",
    "1. mysql-connector-python\n",
    "2. google-cloud"
   ]
  },
  {
   "cell_type": "code",
   "execution_count": 1,
   "id": "dBaVCoFWFfdC",
   "metadata": {
    "id": "dBaVCoFWFfdC"
   },
   "outputs": [
    {
     "name": "stdout",
     "output_type": "stream",
     "text": [
      "Collecting mysql-connector-python\n",
      "  Downloading mysql_connector_python-8.0.33-cp311-cp311-win_amd64.whl (9.6 MB)\n",
      "                                              0.0/9.6 MB ? eta -:--:--\n",
      "                                              0.0/9.6 MB ? eta -:--:--\n",
      "                                              0.0/9.6 MB 330.3 kB/s eta 0:00:29\n",
      "                                              0.1/9.6 MB 491.5 kB/s eta 0:00:20\n",
      "                                              0.1/9.6 MB 656.4 kB/s eta 0:00:15\n",
      "                                              0.2/9.6 MB 958.4 kB/s eta 0:00:10\n",
      "     -                                        0.3/9.6 MB 1.1 MB/s eta 0:00:09\n",
      "     --                                       0.5/9.6 MB 1.7 MB/s eta 0:00:06\n",
      "     --                                       0.6/9.6 MB 1.9 MB/s eta 0:00:05\n",
      "     ---                                      0.9/9.6 MB 2.4 MB/s eta 0:00:04\n",
      "     ----                                     1.1/9.6 MB 2.7 MB/s eta 0:00:04\n",
      "     -----                                    1.3/9.6 MB 2.9 MB/s eta 0:00:03\n",
      "     -------                                  1.7/9.6 MB 3.3 MB/s eta 0:00:03\n",
      "     -------                                  1.9/9.6 MB 3.5 MB/s eta 0:00:03\n",
      "     ---------                                2.2/9.6 MB 3.7 MB/s eta 0:00:02\n",
      "     ----------                               2.4/9.6 MB 3.9 MB/s eta 0:00:02\n",
      "     ----------                               2.4/9.6 MB 3.9 MB/s eta 0:00:02\n",
      "     ----------                               2.4/9.6 MB 3.9 MB/s eta 0:00:02\n",
      "     ----------                               2.4/9.6 MB 3.9 MB/s eta 0:00:02\n",
      "     ----------                               2.4/9.6 MB 3.9 MB/s eta 0:00:02\n",
      "     ----------                               2.4/9.6 MB 3.9 MB/s eta 0:00:02\n",
      "     ----------                               2.4/9.6 MB 3.9 MB/s eta 0:00:02\n",
      "     ----------                               2.4/9.6 MB 3.9 MB/s eta 0:00:02\n",
      "     --------------                           3.5/9.6 MB 3.6 MB/s eta 0:00:02\n",
      "     --------------                           3.6/9.6 MB 3.4 MB/s eta 0:00:02\n",
      "     ---------------                          3.6/9.6 MB 3.4 MB/s eta 0:00:02\n",
      "     ---------------                          3.8/9.6 MB 3.5 MB/s eta 0:00:02\n",
      "     ----------------                         3.9/9.6 MB 3.4 MB/s eta 0:00:02\n",
      "     ----------------                         4.0/9.6 MB 3.4 MB/s eta 0:00:02\n",
      "     ------------------                       4.3/9.6 MB 3.5 MB/s eta 0:00:02\n",
      "     ------------------                       4.3/9.6 MB 3.5 MB/s eta 0:00:02\n",
      "     ------------------                       4.3/9.6 MB 3.5 MB/s eta 0:00:02\n",
      "     ---------------------                    5.1/9.6 MB 3.8 MB/s eta 0:00:02\n",
      "     ----------------------                   5.3/9.6 MB 3.8 MB/s eta 0:00:02\n",
      "     ----------------------                   5.4/9.6 MB 3.8 MB/s eta 0:00:02\n",
      "     ----------------------                   5.4/9.6 MB 3.8 MB/s eta 0:00:02\n",
      "     ----------------------                   5.4/9.6 MB 3.5 MB/s eta 0:00:02\n",
      "     ----------------------                   5.4/9.6 MB 3.5 MB/s eta 0:00:02\n",
      "     ----------------------                   5.4/9.6 MB 3.4 MB/s eta 0:00:02\n",
      "     -----------------------                  5.6/9.6 MB 3.4 MB/s eta 0:00:02\n",
      "     ------------------------                 5.8/9.6 MB 3.5 MB/s eta 0:00:02\n",
      "     ------------------------                 6.0/9.6 MB 3.5 MB/s eta 0:00:02\n",
      "     -------------------------                6.2/9.6 MB 3.5 MB/s eta 0:00:01\n",
      "     --------------------------               6.3/9.6 MB 3.5 MB/s eta 0:00:01\n",
      "     ---------------------------              6.5/9.6 MB 3.5 MB/s eta 0:00:01\n",
      "     ---------------------------              6.7/9.6 MB 3.5 MB/s eta 0:00:01\n",
      "     -----------------------------            7.0/9.6 MB 3.6 MB/s eta 0:00:01\n",
      "     -----------------------------            7.1/9.6 MB 3.6 MB/s eta 0:00:01\n",
      "     ------------------------------           7.4/9.6 MB 3.6 MB/s eta 0:00:01\n",
      "     --------------------------------         7.7/9.6 MB 3.7 MB/s eta 0:00:01\n",
      "     --------------------------------         7.8/9.6 MB 3.7 MB/s eta 0:00:01\n",
      "     ---------------------------------        8.1/9.6 MB 3.8 MB/s eta 0:00:01\n",
      "     ----------------------------------       8.3/9.6 MB 3.8 MB/s eta 0:00:01\n",
      "     -----------------------------------      8.6/9.6 MB 3.9 MB/s eta 0:00:01\n",
      "     -----------------------------------      8.6/9.6 MB 3.8 MB/s eta 0:00:01\n",
      "     ------------------------------------     8.8/9.6 MB 3.8 MB/s eta 0:00:01\n",
      "     --------------------------------------   9.1/9.6 MB 3.9 MB/s eta 0:00:01\n",
      "     ---------------------------------------  9.4/9.6 MB 3.9 MB/s eta 0:00:01\n",
      "     ---------------------------------------  9.6/9.6 MB 4.0 MB/s eta 0:00:01\n",
      "     ---------------------------------------- 9.6/9.6 MB 3.9 MB/s eta 0:00:00\n",
      "Collecting protobuf<=3.20.3,>=3.11.0 (from mysql-connector-python)\n",
      "  Downloading protobuf-3.20.3-py2.py3-none-any.whl (162 kB)\n",
      "                                              0.0/162.1 kB ? eta -:--:--\n",
      "     -------------------------------------- 162.1/162.1 kB 4.7 MB/s eta 0:00:00\n",
      "Installing collected packages: protobuf, mysql-connector-python\n",
      "Successfully installed mysql-connector-python-8.0.33 protobuf-3.20.3\n",
      "Collecting google-cloud-bigquery\n",
      "  Downloading google_cloud_bigquery-3.11.3-py2.py3-none-any.whl (219 kB)\n",
      "                                              0.0/219.5 kB ? eta -:--:--\n",
      "     -                                        10.2/219.5 kB ? eta -:--:--\n",
      "     -----                                 30.7/219.5 kB 435.7 kB/s eta 0:00:01\n",
      "     ----------                            61.4/219.5 kB 544.7 kB/s eta 0:00:01\n",
      "     -----------------------              143.4/219.5 kB 944.1 kB/s eta 0:00:01\n",
      "     -------------------------------------- 219.5/219.5 kB 1.1 MB/s eta 0:00:00\n",
      "Collecting grpcio<2.0dev,>=1.47.0 (from google-cloud-bigquery)\n",
      "  Downloading grpcio-1.56.0-cp311-cp311-win_amd64.whl (4.2 MB)\n",
      "                                              0.0/4.2 MB ? eta -:--:--\n",
      "     --                                       0.2/4.2 MB 6.7 MB/s eta 0:00:01\n",
      "     ---                                      0.3/4.2 MB 3.9 MB/s eta 0:00:01\n",
      "     -----                                    0.6/4.2 MB 4.4 MB/s eta 0:00:01\n",
      "     -------                                  0.8/4.2 MB 5.0 MB/s eta 0:00:01\n",
      "     ----------                               1.1/4.2 MB 5.4 MB/s eta 0:00:01\n",
      "     ------------                             1.4/4.2 MB 5.4 MB/s eta 0:00:01\n",
      "     ---------------                          1.6/4.2 MB 5.6 MB/s eta 0:00:01\n",
      "     ----------------                         1.8/4.2 MB 5.3 MB/s eta 0:00:01\n",
      "     -----------------                        1.9/4.2 MB 5.5 MB/s eta 0:00:01\n",
      "     -----------------                        1.9/4.2 MB 5.5 MB/s eta 0:00:01\n",
      "     -----------------                        1.9/4.2 MB 5.5 MB/s eta 0:00:01\n",
      "     ------------------                       1.9/4.2 MB 4.0 MB/s eta 0:00:01\n",
      "     ---------------------------              3.0/4.2 MB 5.7 MB/s eta 0:00:01\n",
      "     ----------------------------             3.0/4.2 MB 5.2 MB/s eta 0:00:01\n",
      "     ------------------------------           3.3/4.2 MB 5.2 MB/s eta 0:00:01\n",
      "     --------------------------------         3.4/4.2 MB 5.3 MB/s eta 0:00:01\n",
      "     ----------------------------------       3.7/4.2 MB 5.2 MB/s eta 0:00:01\n",
      "     -------------------------------------    4.0/4.2 MB 5.3 MB/s eta 0:00:01\n",
      "     -------------------------------------    4.0/4.2 MB 5.3 MB/s eta 0:00:01\n",
      "     ---------------------------------------  4.2/4.2 MB 5.1 MB/s eta 0:00:01\n",
      "     ---------------------------------------- 4.2/4.2 MB 5.0 MB/s eta 0:00:00\n",
      "Collecting google-api-core[grpc]!=2.0.*,!=2.1.*,!=2.2.*,!=2.3.0,<3.0.0dev,>=1.31.5 (from google-cloud-bigquery)\n",
      "  Downloading google_api_core-2.11.1-py3-none-any.whl (120 kB)\n",
      "                                              0.0/120.5 kB ? eta -:--:--\n",
      "     -------------------------------------- 120.5/120.5 kB 3.4 MB/s eta 0:00:00\n",
      "Collecting proto-plus<2.0.0dev,>=1.15.0 (from google-cloud-bigquery)\n",
      "  Downloading proto_plus-1.22.3-py3-none-any.whl (48 kB)\n",
      "                                              0.0/48.1 kB ? eta -:--:--\n",
      "     ---------------------------------------- 48.1/48.1 kB 2.4 MB/s eta 0:00:00\n",
      "Collecting google-cloud-core<3.0.0dev,>=1.6.0 (from google-cloud-bigquery)\n",
      "  Downloading google_cloud_core-2.3.3-py2.py3-none-any.whl (29 kB)\n",
      "Collecting google-resumable-media<3.0dev,>=0.6.0 (from google-cloud-bigquery)\n",
      "  Downloading google_resumable_media-2.5.0-py2.py3-none-any.whl (77 kB)\n",
      "                                              0.0/77.7 kB ? eta -:--:--\n",
      "     ---------------------------------------- 77.7/77.7 kB 4.2 MB/s eta 0:00:00\n",
      "Requirement already satisfied: packaging>=20.0.0 in c:\\users\\innovation computers\\anaconda3\\envs\\test\\lib\\site-packages (from google-cloud-bigquery) (23.0)\n",
      "Requirement already satisfied: protobuf!=3.20.0,!=3.20.1,!=4.21.0,!=4.21.1,!=4.21.2,!=4.21.3,!=4.21.4,!=4.21.5,<5.0.0dev,>=3.19.5 in c:\\users\\innovation computers\\anaconda3\\envs\\test\\lib\\site-packages (from google-cloud-bigquery) (3.20.3)\n",
      "Requirement already satisfied: python-dateutil<3.0dev,>=2.7.2 in c:\\users\\innovation computers\\anaconda3\\envs\\test\\lib\\site-packages (from google-cloud-bigquery) (2.8.2)\n",
      "Collecting requests<3.0.0dev,>=2.21.0 (from google-cloud-bigquery)\n",
      "  Downloading requests-2.31.0-py3-none-any.whl (62 kB)\n",
      "                                              0.0/62.6 kB ? eta -:--:--\n",
      "     ---------------------------------------- 62.6/62.6 kB 3.3 MB/s eta 0:00:00\n",
      "Collecting googleapis-common-protos<2.0.dev0,>=1.56.2 (from google-api-core[grpc]!=2.0.*,!=2.1.*,!=2.2.*,!=2.3.0,<3.0.0dev,>=1.31.5->google-cloud-bigquery)\n",
      "  Downloading googleapis_common_protos-1.59.1-py2.py3-none-any.whl (224 kB)\n",
      "                                              0.0/224.5 kB ? eta -:--:--\n",
      "     -------------------------------------- 224.5/224.5 kB 6.9 MB/s eta 0:00:00\n",
      "Collecting google-auth<3.0.dev0,>=2.14.1 (from google-api-core[grpc]!=2.0.*,!=2.1.*,!=2.2.*,!=2.3.0,<3.0.0dev,>=1.31.5->google-cloud-bigquery)\n",
      "  Downloading google_auth-2.22.0-py2.py3-none-any.whl (181 kB)\n",
      "                                              0.0/181.8 kB ? eta -:--:--\n",
      "     --------------------------------       153.6/181.8 kB 4.6 MB/s eta 0:00:01\n",
      "     -------------------------------------- 181.8/181.8 kB 5.5 MB/s eta 0:00:00\n",
      "Collecting grpcio-status<2.0.dev0,>=1.33.2 (from google-api-core[grpc]!=2.0.*,!=2.1.*,!=2.2.*,!=2.3.0,<3.0.0dev,>=1.31.5->google-cloud-bigquery)\n",
      "  Downloading grpcio_status-1.56.0-py3-none-any.whl (5.1 kB)\n",
      "Collecting google-crc32c<2.0dev,>=1.0 (from google-resumable-media<3.0dev,>=0.6.0->google-cloud-bigquery)\n",
      "  Downloading google_crc32c-1.5.0-cp311-cp311-win_amd64.whl (27 kB)\n",
      "Requirement already satisfied: six>=1.5 in c:\\users\\innovation computers\\anaconda3\\envs\\test\\lib\\site-packages (from python-dateutil<3.0dev,>=2.7.2->google-cloud-bigquery) (1.16.0)\n",
      "Collecting charset-normalizer<4,>=2 (from requests<3.0.0dev,>=2.21.0->google-cloud-bigquery)\n",
      "  Downloading charset_normalizer-3.2.0-cp311-cp311-win_amd64.whl (96 kB)\n",
      "                                              0.0/96.6 kB ? eta -:--:--\n",
      "     ---------------------------------------- 96.6/96.6 kB 5.4 MB/s eta 0:00:00\n",
      "Requirement already satisfied: idna<4,>=2.5 in c:\\users\\innovation computers\\anaconda3\\envs\\test\\lib\\site-packages (from requests<3.0.0dev,>=2.21.0->google-cloud-bigquery) (3.4)\n",
      "Collecting urllib3<3,>=1.21.1 (from requests<3.0.0dev,>=2.21.0->google-cloud-bigquery)\n",
      "  Downloading urllib3-2.0.3-py3-none-any.whl (123 kB)\n",
      "                                              0.0/123.6 kB ? eta -:--:--\n",
      "     -------------------------------------- 123.6/123.6 kB 3.7 MB/s eta 0:00:00\n",
      "Collecting certifi>=2017.4.17 (from requests<3.0.0dev,>=2.21.0->google-cloud-bigquery)\n",
      "  Downloading certifi-2023.5.7-py3-none-any.whl (156 kB)\n",
      "                                              0.0/157.0 kB ? eta -:--:--\n",
      "     -------------------------------------- 157.0/157.0 kB 4.7 MB/s eta 0:00:00\n",
      "Collecting cachetools<6.0,>=2.0.0 (from google-auth<3.0.dev0,>=2.14.1->google-api-core[grpc]!=2.0.*,!=2.1.*,!=2.2.*,!=2.3.0,<3.0.0dev,>=1.31.5->google-cloud-bigquery)\n",
      "  Downloading cachetools-5.3.1-py3-none-any.whl (9.3 kB)\n",
      "Collecting pyasn1-modules>=0.2.1 (from google-auth<3.0.dev0,>=2.14.1->google-api-core[grpc]!=2.0.*,!=2.1.*,!=2.2.*,!=2.3.0,<3.0.0dev,>=1.31.5->google-cloud-bigquery)\n",
      "  Downloading pyasn1_modules-0.3.0-py2.py3-none-any.whl (181 kB)\n",
      "                                              0.0/181.3 kB ? eta -:--:--\n",
      "     -------------------------------------- 181.3/181.3 kB 3.6 MB/s eta 0:00:00\n",
      "Collecting rsa<5,>=3.1.4 (from google-auth<3.0.dev0,>=2.14.1->google-api-core[grpc]!=2.0.*,!=2.1.*,!=2.2.*,!=2.3.0,<3.0.0dev,>=1.31.5->google-cloud-bigquery)\n",
      "  Downloading rsa-4.9-py3-none-any.whl (34 kB)\n",
      "Collecting urllib3<3,>=1.21.1 (from requests<3.0.0dev,>=2.21.0->google-cloud-bigquery)\n",
      "  Downloading urllib3-1.26.16-py2.py3-none-any.whl (143 kB)\n",
      "                                              0.0/143.1 kB ? eta -:--:--\n",
      "     -------------------------------------- 143.1/143.1 kB 4.3 MB/s eta 0:00:00\n",
      "Collecting protobuf!=3.20.0,!=3.20.1,!=4.21.0,!=4.21.1,!=4.21.2,!=4.21.3,!=4.21.4,!=4.21.5,<5.0.0dev,>=3.19.5 (from google-cloud-bigquery)\n",
      "  Downloading protobuf-4.23.4-cp310-abi3-win_amd64.whl (422 kB)\n",
      "                                              0.0/422.5 kB ? eta -:--:--\n",
      "     -----------------                      194.6/422.5 kB 5.9 MB/s eta 0:00:01\n",
      "     -------------------------------        348.2/422.5 kB 5.5 MB/s eta 0:00:01\n",
      "     -------------------------------------- 422.5/422.5 kB 4.4 MB/s eta 0:00:00\n",
      "Collecting pyasn1<0.6.0,>=0.4.6 (from pyasn1-modules>=0.2.1->google-auth<3.0.dev0,>=2.14.1->google-api-core[grpc]!=2.0.*,!=2.1.*,!=2.2.*,!=2.3.0,<3.0.0dev,>=1.31.5->google-cloud-bigquery)\n",
      "  Downloading pyasn1-0.5.0-py2.py3-none-any.whl (83 kB)\n",
      "                                              0.0/83.9 kB ? eta -:--:--\n",
      "     ---------------------------------------- 83.9/83.9 kB 4.6 MB/s eta 0:00:00\n",
      "Installing collected packages: urllib3, pyasn1, protobuf, grpcio, google-crc32c, charset-normalizer, certifi, cachetools, rsa, requests, pyasn1-modules, proto-plus, googleapis-common-protos, google-resumable-media, grpcio-status, google-auth, google-api-core, google-cloud-core, google-cloud-bigquery\n",
      "  Attempting uninstall: protobuf\n",
      "    Found existing installation: protobuf 3.20.3\n",
      "    Uninstalling protobuf-3.20.3:\n",
      "      Successfully uninstalled protobuf-3.20.3\n",
      "Successfully installed cachetools-5.3.1 certifi-2023.5.7 charset-normalizer-3.2.0 google-api-core-2.11.1 google-auth-2.22.0 google-cloud-bigquery-3.11.3 google-cloud-core-2.3.3 google-crc32c-1.5.0 google-resumable-media-2.5.0 googleapis-common-protos-1.59.1 grpcio-1.56.0 grpcio-status-1.56.0 proto-plus-1.22.3 protobuf-4.23.4 pyasn1-0.5.0 pyasn1-modules-0.3.0 requests-2.31.0 rsa-4.9 urllib3-1.26.16\n"
     ]
    },
    {
     "name": "stderr",
     "output_type": "stream",
     "text": [
      "ERROR: pip's dependency resolver does not currently take into account all the packages that are installed. This behaviour is the source of the following dependency conflicts.\n",
      "mysql-connector-python 8.0.33 requires protobuf<=3.20.3,>=3.11.0, but you have protobuf 4.23.4 which is incompatible.\n"
     ]
    },
    {
     "name": "stdout",
     "output_type": "stream",
     "text": [
      "Requirement already satisfied: pandas in c:\\users\\innovation computers\\anaconda3\\envs\\test\\lib\\site-packages (1.5.3)\n",
      "Requirement already satisfied: python-dateutil>=2.8.1 in c:\\users\\innovation computers\\anaconda3\\envs\\test\\lib\\site-packages (from pandas) (2.8.2)\n",
      "Requirement already satisfied: pytz>=2020.1 in c:\\users\\innovation computers\\anaconda3\\envs\\test\\lib\\site-packages (from pandas) (2022.7)\n",
      "Requirement already satisfied: numpy>=1.21.0 in c:\\users\\innovation computers\\anaconda3\\envs\\test\\lib\\site-packages (from pandas) (1.25.0)\n",
      "Requirement already satisfied: six>=1.5 in c:\\users\\innovation computers\\anaconda3\\envs\\test\\lib\\site-packages (from python-dateutil>=2.8.1->pandas) (1.16.0)\n",
      "Collecting pyarrow\n",
      "  Downloading pyarrow-12.0.1-cp311-cp311-win_amd64.whl (21.5 MB)\n",
      "                                              0.0/21.5 MB ? eta -:--:--\n",
      "                                              0.0/21.5 MB ? eta -:--:--\n",
      "                                             0.0/21.5 MB 325.1 kB/s eta 0:01:06\n",
      "                                             0.1/21.5 MB 465.5 kB/s eta 0:00:46\n",
      "                                             0.1/21.5 MB 595.3 kB/s eta 0:00:36\n",
      "                                             0.2/21.5 MB 958.4 kB/s eta 0:00:23\n",
      "                                              0.2/21.5 MB 1.0 MB/s eta 0:00:22\n",
      "                                              0.4/21.5 MB 1.4 MB/s eta 0:00:16\n",
      "                                              0.5/21.5 MB 1.6 MB/s eta 0:00:13\n",
      "     -                                        0.6/21.5 MB 1.7 MB/s eta 0:00:12\n",
      "     -                                        0.8/21.5 MB 2.1 MB/s eta 0:00:10\n",
      "     --                                       1.1/21.5 MB 2.5 MB/s eta 0:00:09\n",
      "     --                                       1.4/21.5 MB 2.8 MB/s eta 0:00:08\n",
      "     --                                       1.6/21.5 MB 3.0 MB/s eta 0:00:07\n",
      "     ---                                      1.9/21.5 MB 3.3 MB/s eta 0:00:06\n",
      "     ---                                      2.1/21.5 MB 3.4 MB/s eta 0:00:06\n",
      "     ----                                     2.2/21.5 MB 3.5 MB/s eta 0:00:06\n",
      "     ----                                     2.2/21.5 MB 3.5 MB/s eta 0:00:06\n",
      "     ----                                     2.2/21.5 MB 3.5 MB/s eta 0:00:06\n",
      "     ----                                     2.3/21.5 MB 2.9 MB/s eta 0:00:07\n",
      "     ------                                   3.3/21.5 MB 4.0 MB/s eta 0:00:05\n",
      "     ------                                   3.4/21.5 MB 3.8 MB/s eta 0:00:05\n",
      "     ------                                   3.6/21.5 MB 4.0 MB/s eta 0:00:05\n",
      "     -------                                  3.9/21.5 MB 4.1 MB/s eta 0:00:05\n",
      "     -------                                  4.2/21.5 MB 4.2 MB/s eta 0:00:05\n",
      "     --------                                 4.4/21.5 MB 4.3 MB/s eta 0:00:04\n",
      "     --------                                 4.6/21.5 MB 4.2 MB/s eta 0:00:04\n",
      "     ---------                                4.9/21.5 MB 4.3 MB/s eta 0:00:04\n",
      "     ---------                                5.2/21.5 MB 4.5 MB/s eta 0:00:04\n",
      "     ----------                               5.4/21.5 MB 4.5 MB/s eta 0:00:04\n",
      "     ----------                               5.8/21.5 MB 4.6 MB/s eta 0:00:04\n",
      "     -----------                              6.0/21.5 MB 4.6 MB/s eta 0:00:04\n",
      "     -----------                              6.2/21.5 MB 4.7 MB/s eta 0:00:04\n",
      "     ------------                             6.5/21.5 MB 4.7 MB/s eta 0:00:04\n",
      "     ------------                             6.7/21.5 MB 4.8 MB/s eta 0:00:04\n",
      "     -------------                            7.0/21.5 MB 4.8 MB/s eta 0:00:04\n",
      "     -------------                            7.2/21.5 MB 4.8 MB/s eta 0:00:03\n",
      "     --------------                           7.5/21.5 MB 4.9 MB/s eta 0:00:03\n",
      "     --------------                           7.8/21.5 MB 5.0 MB/s eta 0:00:03\n",
      "     ---------------                          8.1/21.5 MB 5.0 MB/s eta 0:00:03\n",
      "     ---------------                          8.3/21.5 MB 5.0 MB/s eta 0:00:03\n",
      "     ---------------                          8.4/21.5 MB 5.0 MB/s eta 0:00:03\n",
      "     ----------------                         8.7/21.5 MB 5.0 MB/s eta 0:00:03\n",
      "     ----------------                         8.8/21.5 MB 5.0 MB/s eta 0:00:03\n",
      "     -----------------                        9.1/21.5 MB 5.0 MB/s eta 0:00:03\n",
      "     -----------------                        9.4/21.5 MB 5.0 MB/s eta 0:00:03\n",
      "     -----------------                        9.5/21.5 MB 5.0 MB/s eta 0:00:03\n",
      "     ------------------                       9.7/21.5 MB 5.0 MB/s eta 0:00:03\n",
      "     ------------------                       10.0/21.5 MB 5.0 MB/s eta 0:00:03\n",
      "     ------------------                       10.0/21.5 MB 5.0 MB/s eta 0:00:03\n",
      "     ------------------                       10.0/21.5 MB 5.0 MB/s eta 0:00:03\n",
      "     --------------------                     10.8/21.5 MB 5.6 MB/s eta 0:00:02\n",
      "     --------------------                     11.0/21.5 MB 5.7 MB/s eta 0:00:02\n",
      "     --------------------                     11.1/21.5 MB 5.6 MB/s eta 0:00:02\n",
      "     ---------------------                    11.4/21.5 MB 5.7 MB/s eta 0:00:02\n",
      "     ---------------------                    11.6/21.5 MB 5.6 MB/s eta 0:00:02\n",
      "     ---------------------                    11.7/21.5 MB 5.6 MB/s eta 0:00:02\n",
      "     ---------------------                    11.7/21.5 MB 5.6 MB/s eta 0:00:02\n",
      "     ---------------------                    11.7/21.5 MB 5.6 MB/s eta 0:00:02\n",
      "     ---------------------                    11.7/21.5 MB 5.6 MB/s eta 0:00:02\n",
      "     ---------------------                    11.7/21.5 MB 5.6 MB/s eta 0:00:02\n",
      "     ----------------------                   11.8/21.5 MB 5.1 MB/s eta 0:00:02\n",
      "     ----------------------                   12.0/21.5 MB 5.0 MB/s eta 0:00:02\n",
      "     ----------------------                   12.1/21.5 MB 4.9 MB/s eta 0:00:02\n",
      "     ----------------------                   12.1/21.5 MB 4.9 MB/s eta 0:00:02\n",
      "     ----------------------                   12.1/21.5 MB 4.9 MB/s eta 0:00:02\n",
      "     -----------------------                  12.7/21.5 MB 5.1 MB/s eta 0:00:02\n",
      "     ------------------------                 12.9/21.5 MB 5.0 MB/s eta 0:00:02\n",
      "     ------------------------                 13.1/21.5 MB 5.0 MB/s eta 0:00:02\n",
      "     ------------------------                 13.3/21.5 MB 4.9 MB/s eta 0:00:02\n",
      "     -------------------------                13.5/21.5 MB 4.9 MB/s eta 0:00:02\n",
      "     -------------------------                13.7/21.5 MB 4.9 MB/s eta 0:00:02\n",
      "     --------------------------               13.9/21.5 MB 4.9 MB/s eta 0:00:02\n",
      "     --------------------------               14.1/21.5 MB 4.8 MB/s eta 0:00:02\n",
      "     --------------------------               14.3/21.5 MB 4.8 MB/s eta 0:00:02\n",
      "     ---------------------------              14.5/21.5 MB 4.8 MB/s eta 0:00:02\n",
      "     ---------------------------              14.7/21.5 MB 4.8 MB/s eta 0:00:02\n",
      "     ---------------------------              14.9/21.5 MB 4.8 MB/s eta 0:00:02\n",
      "     ----------------------------             15.2/21.5 MB 4.7 MB/s eta 0:00:02\n",
      "     ----------------------------             15.4/21.5 MB 4.7 MB/s eta 0:00:02\n",
      "     ----------------------------             15.5/21.5 MB 4.7 MB/s eta 0:00:02\n",
      "     -----------------------------            15.8/21.5 MB 4.6 MB/s eta 0:00:02\n",
      "     -----------------------------            16.1/21.5 MB 4.6 MB/s eta 0:00:02\n",
      "     ------------------------------           16.3/21.5 MB 4.6 MB/s eta 0:00:02\n",
      "     ------------------------------           16.5/21.5 MB 4.6 MB/s eta 0:00:02\n",
      "     -------------------------------          16.7/21.5 MB 4.5 MB/s eta 0:00:02\n",
      "     -------------------------------          16.9/21.5 MB 4.5 MB/s eta 0:00:02\n",
      "     -------------------------------          17.0/21.5 MB 4.5 MB/s eta 0:00:01\n",
      "     --------------------------------         17.2/21.5 MB 4.5 MB/s eta 0:00:01\n",
      "     --------------------------------         17.4/21.5 MB 4.5 MB/s eta 0:00:01\n",
      "     --------------------------------         17.7/21.5 MB 4.5 MB/s eta 0:00:01\n",
      "     ---------------------------------        17.8/21.5 MB 4.5 MB/s eta 0:00:01\n",
      "     ---------------------------------        18.0/21.5 MB 4.4 MB/s eta 0:00:01\n",
      "     ---------------------------------        18.2/21.5 MB 4.4 MB/s eta 0:00:01\n",
      "     ----------------------------------       18.4/21.5 MB 4.4 MB/s eta 0:00:01\n",
      "     ----------------------------------       18.6/21.5 MB 4.4 MB/s eta 0:00:01\n",
      "     -----------------------------------      18.8/21.5 MB 4.4 MB/s eta 0:00:01\n",
      "     -----------------------------------      19.0/21.5 MB 4.4 MB/s eta 0:00:01\n",
      "     -----------------------------------      19.2/21.5 MB 4.4 MB/s eta 0:00:01\n",
      "     -----------------------------------      19.3/21.5 MB 4.4 MB/s eta 0:00:01\n",
      "     ------------------------------------     19.6/21.5 MB 4.4 MB/s eta 0:00:01\n",
      "     -------------------------------------    19.8/21.5 MB 4.4 MB/s eta 0:00:01\n",
      "     -------------------------------------    20.0/21.5 MB 4.4 MB/s eta 0:00:01\n",
      "     -------------------------------------    20.3/21.5 MB 4.6 MB/s eta 0:00:01\n",
      "     --------------------------------------   20.4/21.5 MB 4.5 MB/s eta 0:00:01\n",
      "     --------------------------------------   20.7/21.5 MB 4.4 MB/s eta 0:00:01\n",
      "     --------------------------------------   20.9/21.5 MB 4.4 MB/s eta 0:00:01\n",
      "     ---------------------------------------  21.1/21.5 MB 4.3 MB/s eta 0:00:01\n",
      "     ---------------------------------------  21.2/21.5 MB 4.3 MB/s eta 0:00:01\n",
      "     ---------------------------------------  21.4/21.5 MB 4.3 MB/s eta 0:00:01\n",
      "     ---------------------------------------  21.5/21.5 MB 4.3 MB/s eta 0:00:01\n",
      "     ---------------------------------------  21.5/21.5 MB 4.3 MB/s eta 0:00:01\n",
      "     ---------------------------------------- 21.5/21.5 MB 4.1 MB/s eta 0:00:00\n",
      "Requirement already satisfied: numpy>=1.16.6 in c:\\users\\innovation computers\\anaconda3\\envs\\test\\lib\\site-packages (from pyarrow) (1.25.0)\n",
      "Installing collected packages: pyarrow\n",
      "Successfully installed pyarrow-12.0.1\n"
     ]
    }
   ],
   "source": [
    "!pip install mysql-connector-python\n",
    "!pip install google-cloud-bigquery\n",
    "!pip install pandas\n",
    "!pip install pyarrow"
   ]
  },
  {
   "cell_type": "markdown",
   "id": "pXLyoVLqFgpL",
   "metadata": {
    "id": "pXLyoVLqFgpL"
   },
   "source": [
    "## Paso 2: Importar paquetes necesarios\n",
    "\n",
    "Importe los siguientes paquetes:\n",
    "\n",
    "1. mysql\n",
    "2. pandas\n",
    "3. mysql.connector\n",
    "4. google.cloud.bigquery\n",
    "5. os"
   ]
  },
  {
   "cell_type": "code",
   "execution_count": 2,
   "id": "VF6Il9oZFj1c",
   "metadata": {
    "id": "VF6Il9oZFj1c"
   },
   "outputs": [],
   "source": [
    "import pandas as pd\n",
    "import mysql.connector as connection\n",
    "from google.cloud import bigquery\n",
    "import os"
   ]
  },
  {
   "cell_type": "markdown",
   "id": "7zA258NLFkci",
   "metadata": {
    "id": "7zA258NLFkci"
   },
   "source": [
    "## Paso 3: Establecer la conexión con la base de datos MySQL\n",
    "\n",
    "Complete el siguiente código para establecer una conexión con la base de datos MySQL:"
   ]
  },
  {
   "cell_type": "code",
   "execution_count": 3,
   "id": "ah9E3APyFqXm",
   "metadata": {
    "id": "ah9E3APyFqXm"
   },
   "outputs": [],
   "source": [
    "mydb = connection.connect(\n",
    "    host=\"34.16.158.146\",\n",
    "    user=\"root\",\n",
    "    passwd=\"root\",\n",
    "    database=\"retail_db\"\n",
    "    )"
   ]
  },
  {
   "cell_type": "markdown",
   "id": "sWFXcH6jFrUL",
   "metadata": {
    "id": "sWFXcH6jFrUL"
   },
   "source": [
    "\n",
    "# Complete el siguiente código para establecer la conexión con la base de datos MySQL\n",
    "```\n",
    "mydb = mysql.connector.connect(\n",
    "    host=\"\",\n",
    "    user=\"\",\n",
    "    passwd=\"\",\n",
    "    database=\"\"\n",
    ")\n",
    "```\n",
    "\n"
   ]
  },
  {
   "cell_type": "markdown",
   "id": "YaFj_e7lF0Kg",
   "metadata": {
    "id": "YaFj_e7lF0Kg"
   },
   "source": [
    "## Paso 4: Leer los datos de la base de datos MySQL utilizando Pandas\n",
    "\n",
    "Escriba el código para leer los datos de la tabla `categories` de la base de datos MySQL utilizando Pandas y almacenarlos en un DataFrame llamado `df`. No olvide cerrar la conexión a la base de datos después de realizar la consulta.\n"
   ]
  },
  {
   "cell_type": "code",
   "execution_count": 4,
   "id": "CLdryJrWF2PG",
   "metadata": {
    "id": "CLdryJrWF2PG"
   },
   "outputs": [
    {
     "name": "stderr",
     "output_type": "stream",
     "text": [
      "C:\\Users\\Innovation Computers\\AppData\\Local\\Temp\\ipykernel_78228\\2935381959.py:2: UserWarning: pandas only supports SQLAlchemy connectable (engine/connection) or database string URI or sqlite3 DBAPI2 connection. Other DBAPI2 objects are not tested. Please consider using SQLAlchemy.\n",
      "  df = pd.read_sql(sql, mydb)\n"
     ]
    },
    {
     "data": {
      "text/html": [
       "<div>\n",
       "<style scoped>\n",
       "    .dataframe tbody tr th:only-of-type {\n",
       "        vertical-align: middle;\n",
       "    }\n",
       "\n",
       "    .dataframe tbody tr th {\n",
       "        vertical-align: top;\n",
       "    }\n",
       "\n",
       "    .dataframe thead th {\n",
       "        text-align: right;\n",
       "    }\n",
       "</style>\n",
       "<table border=\"1\" class=\"dataframe\">\n",
       "  <thead>\n",
       "    <tr style=\"text-align: right;\">\n",
       "      <th></th>\n",
       "      <th>category_id</th>\n",
       "      <th>category_department_id</th>\n",
       "      <th>category_name</th>\n",
       "    </tr>\n",
       "  </thead>\n",
       "  <tbody>\n",
       "    <tr>\n",
       "      <th>0</th>\n",
       "      <td>1</td>\n",
       "      <td>2</td>\n",
       "      <td>Football</td>\n",
       "    </tr>\n",
       "    <tr>\n",
       "      <th>1</th>\n",
       "      <td>2</td>\n",
       "      <td>2</td>\n",
       "      <td>Soccer</td>\n",
       "    </tr>\n",
       "    <tr>\n",
       "      <th>2</th>\n",
       "      <td>3</td>\n",
       "      <td>2</td>\n",
       "      <td>Baseball &amp; Softball</td>\n",
       "    </tr>\n",
       "    <tr>\n",
       "      <th>3</th>\n",
       "      <td>4</td>\n",
       "      <td>2</td>\n",
       "      <td>Basketball</td>\n",
       "    </tr>\n",
       "    <tr>\n",
       "      <th>4</th>\n",
       "      <td>5</td>\n",
       "      <td>2</td>\n",
       "      <td>Lacrosse</td>\n",
       "    </tr>\n",
       "  </tbody>\n",
       "</table>\n",
       "</div>"
      ],
      "text/plain": [
       "   category_id  category_department_id        category_name\n",
       "0            1                       2             Football\n",
       "1            2                       2               Soccer\n",
       "2            3                       2  Baseball & Softball\n",
       "3            4                       2           Basketball\n",
       "4            5                       2             Lacrosse"
      ]
     },
     "execution_count": 4,
     "metadata": {},
     "output_type": "execute_result"
    }
   ],
   "source": [
    "sql = \"SELECT * FROM retail_db.categories\"\n",
    "df = pd.read_sql(sql, mydb)\n",
    "mydb.close()\n",
    "df.head()"
   ]
  },
  {
   "cell_type": "markdown",
   "id": "ZbTJHPnuF4yI",
   "metadata": {
    "id": "ZbTJHPnuF4yI"
   },
   "source": [
    "## Paso 5: Configurar las credenciales de Google Cloud\n",
    "\n",
    "Agregue el archivo JSON de las credenciales de su cuenta de Google Cloud al entorno de ejecución y establezca la variable de entorno `GOOGLE_APPLICATION_CREDENTIALS` con la ruta al archivo JSON.\n"
   ]
  },
  {
   "cell_type": "code",
   "execution_count": 5,
   "id": "F_0rWVA6F5cj",
   "metadata": {
    "id": "F_0rWVA6F5cj"
   },
   "outputs": [],
   "source": [
    "os.environ['GOOGLE_APPLICATION_CREDENTIALS'] = 'service.json'"
   ]
  },
  {
   "cell_type": "markdown",
   "id": "6HRVRXjmF6rR",
   "metadata": {
    "id": "6HRVRXjmF6rR"
   },
   "source": [
    "## Paso 6: Crear un cliente de BigQuery\n",
    "\n",
    "Escriba el código para crear un objeto cliente de BigQuery.\n"
   ]
  },
  {
   "cell_type": "code",
   "execution_count": 6,
   "id": "WuSKbz2xF9HO",
   "metadata": {
    "id": "WuSKbz2xF9HO"
   },
   "outputs": [],
   "source": [
    "client = bigquery.Client()"
   ]
  },
  {
   "cell_type": "markdown",
   "id": "R1PwRWTEF9ZD",
   "metadata": {
    "id": "R1PwRWTEF9ZD"
   },
   "source": [
    "## Paso 7: Escribir los datos del DataFrame en Google BigQuery\n",
    "\n",
    "Escriba el código necesario para escribir los datos del DataFrame `df` en la tabla `sysven_categories_raw` en Google BigQuery. Utilice la opción \"WRITE_TRUNCATE\" para sobrescribir cualquier dato existente en la tabla.\n"
   ]
  },
  {
   "cell_type": "code",
   "execution_count": 11,
   "id": "Gjfa5JD2F_PE",
   "metadata": {
    "id": "Gjfa5JD2F_PE"
   },
   "outputs": [],
   "source": [
    "tabla_id = 'storied-box-393201.proyecto_raw.categories'\n",
    "tabla_property = client.get_table(tabla_id)"
   ]
  },
  {
   "cell_type": "code",
   "execution_count": 13,
   "id": "c0c0f370",
   "metadata": {},
   "outputs": [],
   "source": [
    "job_configuration = bigquery.LoadJobConfig(\n",
    "    schema=tabla_property.schema,\n",
    "    write_disposition='WRITE_TRUNCATE'\n",
    ")"
   ]
  },
  {
   "cell_type": "code",
   "execution_count": 14,
   "id": "08998cfc",
   "metadata": {},
   "outputs": [
    {
     "name": "stdout",
     "output_type": "stream",
     "text": [
      "Carga Completada\n"
     ]
    }
   ],
   "source": [
    "job = client.load_table_from_dataframe(\n",
    "    df, tabla_id, job_config=job_configuration\n",
    ")\n",
    "\n",
    "job.result() # Esperar que se complete la carga\n",
    "\n",
    "print('Carga Completada')"
   ]
  }
 ],
 "metadata": {
  "colab": {
   "provenance": []
  },
  "environment": {
   "kernel": "python3",
   "name": "common-cpu.m104",
   "type": "gcloud",
   "uri": "gcr.io/deeplearning-platform-release/base-cpu:m104"
  },
  "kernelspec": {
   "display_name": "Python 3 (ipykernel)",
   "language": "python",
   "name": "python3"
  },
  "language_info": {
   "codemirror_mode": {
    "name": "ipython",
    "version": 3
   },
   "file_extension": ".py",
   "mimetype": "text/x-python",
   "name": "python",
   "nbconvert_exporter": "python",
   "pygments_lexer": "ipython3",
   "version": "3.11.4"
  }
 },
 "nbformat": 4,
 "nbformat_minor": 5
}
